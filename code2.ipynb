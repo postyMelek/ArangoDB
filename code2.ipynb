{
 "cells": [
  {
   "cell_type": "code",
   "execution_count": 1,
   "metadata": {},
   "outputs": [],
   "source": [
    "import networkx as nx\n",
    "from arango import ArangoClient\n",
    "from dotenv import load_dotenv\n",
    "import os\n"
   ]
  },
  {
   "cell_type": "code",
   "execution_count": 2,
   "metadata": {},
   "outputs": [],
   "source": [
    "# Load env\n",
    "load_dotenv()\n",
    "\n",
    "ARANGO_HOST = os.getenv(\"ARANGO_HOST\")\n",
    "ARANGO_USERNAME = os.getenv(\"ARANGO_USERNAME\")\n",
    "ARANGO_PASSWORD = os.getenv(\"ARANGO_PASSWORD\")\n",
    "ARANGO_DB_NAME = os.getenv(\"ARANGO_DB_NAME\")\n",
    "\n",
    "client = ArangoClient(hosts=ARANGO_HOST)\n",
    "db = client.db(ARANGO_DB_NAME, username=ARANGO_USERNAME, password=ARANGO_PASSWORD)\n",
    "\n",
    "# Load dataset amazon0302\n",
    "G = nx.read_edgelist(\"amazon0302.txt\", create_using=nx.DiGraph())\n"
   ]
  },
  {
   "cell_type": "code",
   "execution_count": 4,
   "metadata": {},
   "outputs": [
    {
     "name": "stdout",
     "output_type": "stream",
     "text": [
      "✅ Koleksi berhasil dikosongkan!\n"
     ]
    }
   ],
   "source": [
    "db.collection(\"products\").truncate()\n",
    "db.collection(\"co_purchases\").truncate()\n",
    "\n",
    "print(\"✅ Koleksi berhasil dikosongkan!\")\n"
   ]
  },
  {
   "cell_type": "code",
   "execution_count": 5,
   "metadata": {},
   "outputs": [
    {
     "name": "stdout",
     "output_type": "stream",
     "text": [
      "✅ Koleksi products dan co_purchases sudah dibuat ulang.\n",
      "✅ 262111 produk berhasil dimasukkan!\n",
      "✅ Batch 1 selesai. (10000 edges)\n",
      "✅ Batch 2 selesai. (10000 edges)\n",
      "✅ Batch 3 selesai. (10000 edges)\n",
      "✅ Batch 4 selesai. (10000 edges)\n",
      "✅ Batch 5 selesai. (10000 edges)\n",
      "✅ Batch 6 selesai. (10000 edges)\n",
      "✅ Batch 7 selesai. (10000 edges)\n",
      "✅ Batch 8 selesai. (10000 edges)\n",
      "✅ Batch 9 selesai. (10000 edges)\n",
      "✅ Batch 10 selesai. (10000 edges)\n",
      "✅ Batch 11 selesai. (10000 edges)\n",
      "✅ Batch 12 selesai. (10000 edges)\n",
      "✅ Batch 13 selesai. (10000 edges)\n",
      "✅ Batch 14 selesai. (10000 edges)\n",
      "✅ Batch 15 selesai. (10000 edges)\n",
      "✅ Batch 16 selesai. (10000 edges)\n",
      "✅ Batch 17 selesai. (10000 edges)\n",
      "✅ Batch 18 selesai. (10000 edges)\n",
      "✅ Batch 19 selesai. (10000 edges)\n",
      "✅ Batch 20 selesai. (10000 edges)\n",
      "✅ Batch 21 selesai. (10000 edges)\n",
      "✅ Batch 22 selesai. (10000 edges)\n",
      "✅ Batch 23 selesai. (10000 edges)\n",
      "✅ Batch 24 selesai. (10000 edges)\n",
      "✅ Batch 25 selesai. (10000 edges)\n",
      "✅ Batch 26 selesai. (10000 edges)\n",
      "✅ Batch 27 selesai. (10000 edges)\n",
      "✅ Batch 28 selesai. (10000 edges)\n",
      "✅ Batch 29 selesai. (10000 edges)\n",
      "✅ Batch 30 selesai. (10000 edges)\n",
      "✅ Batch 31 selesai. (10000 edges)\n",
      "✅ Batch 32 selesai. (10000 edges)\n",
      "✅ Batch 33 selesai. (10000 edges)\n",
      "✅ Batch 34 selesai. (10000 edges)\n",
      "✅ Batch 35 selesai. (10000 edges)\n",
      "✅ Batch 36 selesai. (10000 edges)\n",
      "✅ Batch 37 selesai. (10000 edges)\n",
      "✅ Batch 38 selesai. (10000 edges)\n",
      "✅ Batch 39 selesai. (10000 edges)\n",
      "✅ Batch 40 selesai. (10000 edges)\n",
      "✅ Batch 41 selesai. (10000 edges)\n",
      "✅ Batch 42 selesai. (10000 edges)\n",
      "✅ Batch 43 selesai. (10000 edges)\n",
      "✅ Batch 44 selesai. (10000 edges)\n",
      "✅ Batch 45 selesai. (10000 edges)\n",
      "✅ Batch 46 selesai. (10000 edges)\n",
      "✅ Batch 47 selesai. (10000 edges)\n",
      "✅ Batch 48 selesai. (10000 edges)\n",
      "✅ Batch 49 selesai. (10000 edges)\n",
      "✅ Batch 50 selesai. (10000 edges)\n",
      "✅ Batch 51 selesai. (10000 edges)\n",
      "✅ Batch 52 selesai. (10000 edges)\n",
      "✅ Batch 53 selesai. (10000 edges)\n",
      "✅ Batch 54 selesai. (10000 edges)\n",
      "✅ Batch 55 selesai. (10000 edges)\n",
      "✅ Batch 56 selesai. (10000 edges)\n",
      "✅ Batch 57 selesai. (10000 edges)\n",
      "✅ Batch 58 selesai. (10000 edges)\n",
      "✅ Batch 59 selesai. (10000 edges)\n",
      "✅ Batch 60 selesai. (10000 edges)\n",
      "✅ Batch 61 selesai. (10000 edges)\n",
      "✅ Batch 62 selesai. (10000 edges)\n",
      "✅ Batch 63 selesai. (10000 edges)\n",
      "✅ Batch 64 selesai. (10000 edges)\n",
      "✅ Batch 65 selesai. (10000 edges)\n",
      "✅ Batch 66 selesai. (10000 edges)\n",
      "✅ Batch 67 selesai. (10000 edges)\n",
      "✅ Batch 68 selesai. (10000 edges)\n",
      "✅ Batch 69 selesai. (10000 edges)\n",
      "✅ Batch 70 selesai. (10000 edges)\n",
      "✅ Batch 71 selesai. (10000 edges)\n",
      "✅ Batch 72 selesai. (10000 edges)\n",
      "✅ Batch 73 selesai. (10000 edges)\n",
      "✅ Batch 74 selesai. (10000 edges)\n",
      "✅ Batch 75 selesai. (10000 edges)\n",
      "✅ Batch 76 selesai. (10000 edges)\n",
      "✅ Batch 77 selesai. (10000 edges)\n",
      "✅ Batch 78 selesai. (10000 edges)\n",
      "✅ Batch 79 selesai. (10000 edges)\n",
      "✅ Batch 80 selesai. (10000 edges)\n",
      "✅ Batch 81 selesai. (10000 edges)\n",
      "✅ Batch 82 selesai. (10000 edges)\n",
      "✅ Batch 83 selesai. (10000 edges)\n",
      "✅ Batch 84 selesai. (10000 edges)\n",
      "✅ Batch 85 selesai. (10000 edges)\n",
      "✅ Batch 86 selesai. (10000 edges)\n",
      "✅ Batch 87 selesai. (10000 edges)\n",
      "✅ Batch 88 selesai. (10000 edges)\n",
      "✅ Batch 89 selesai. (10000 edges)\n",
      "✅ Batch 90 selesai. (10000 edges)\n",
      "✅ Batch 91 selesai. (10000 edges)\n",
      "✅ Batch 92 selesai. (10000 edges)\n",
      "✅ Batch 93 selesai. (10000 edges)\n",
      "✅ Batch 94 selesai. (10000 edges)\n",
      "✅ Batch 95 selesai. (10000 edges)\n",
      "✅ Batch 96 selesai. (10000 edges)\n",
      "✅ Batch 97 selesai. (10000 edges)\n",
      "✅ Batch 98 selesai. (10000 edges)\n",
      "✅ Batch 99 selesai. (10000 edges)\n",
      "✅ Batch 100 selesai. (10000 edges)\n",
      "✅ Batch 101 selesai. (10000 edges)\n",
      "✅ Batch 102 selesai. (10000 edges)\n",
      "✅ Batch 103 selesai. (10000 edges)\n",
      "✅ Batch 104 selesai. (10000 edges)\n",
      "✅ Batch 105 selesai. (10000 edges)\n",
      "✅ Batch 106 selesai. (10000 edges)\n",
      "✅ Batch 107 selesai. (10000 edges)\n",
      "✅ Batch 108 selesai. (10000 edges)\n",
      "✅ Batch 109 selesai. (10000 edges)\n",
      "✅ Batch 110 selesai. (10000 edges)\n",
      "✅ Batch 111 selesai. (10000 edges)\n",
      "✅ Batch 112 selesai. (10000 edges)\n",
      "✅ Batch 113 selesai. (10000 edges)\n",
      "✅ Batch 114 selesai. (10000 edges)\n",
      "✅ Batch 115 selesai. (10000 edges)\n",
      "✅ Batch 116 selesai. (10000 edges)\n",
      "✅ Batch 117 selesai. (10000 edges)\n",
      "✅ Batch 118 selesai. (10000 edges)\n",
      "✅ Batch 119 selesai. (10000 edges)\n",
      "✅ Batch 120 selesai. (10000 edges)\n",
      "✅ Batch 121 selesai. (10000 edges)\n",
      "✅ Batch 122 selesai. (10000 edges)\n",
      "✅ Batch 123 selesai. (10000 edges)\n",
      "✅ Batch 124 selesai. (4877 edges)\n",
      "✅ Semua data produk dan co-purchases berhasil di-insert ke ArangoDB!\n"
     ]
    }
   ],
   "source": [
    "# RESET KOLEKSI\n",
    "if db.has_collection(\"products\"):\n",
    "    db.delete_collection(\"products\")\n",
    "if db.has_collection(\"co_purchases\"):\n",
    "    db.delete_collection(\"co_purchases\")\n",
    "\n",
    "# BUAT KOLEKSI ULANG\n",
    "db.create_collection(\"products\")\n",
    "db.create_collection(\"co_purchases\", edge=True)\n",
    "\n",
    "print(\"✅ Koleksi products dan co_purchases sudah dibuat ulang.\")\n",
    "\n",
    "# INSERT PRODUCTS\n",
    "products = [{\"_key\": str(node)} for node in G.nodes()]\n",
    "db.collection(\"products\").insert_many(products, overwrite=True)\n",
    "\n",
    "print(f\"✅ {len(products)} produk berhasil dimasukkan!\")\n",
    "\n",
    "# INSERT EDGES DENGAN BATCHING\n",
    "edges = [{\"_from\": f\"products/{u}\", \"_to\": f\"products/{v}\"} for u, v in G.edges()]\n",
    "\n",
    "batch_size = 10000\n",
    "edges_collection = db.collection(\"co_purchases\")\n",
    "\n",
    "for i in range(0, len(edges), batch_size):\n",
    "    batch = edges[i:i + batch_size]\n",
    "    edges_collection.insert_many(batch, overwrite=True)\n",
    "    print(f\"✅ Batch {i // batch_size + 1} selesai. ({len(batch)} edges)\")\n",
    "\n",
    "print(\"✅ Semua data produk dan co-purchases berhasil di-insert ke ArangoDB!\")\n"
   ]
  },
  {
   "cell_type": "code",
   "execution_count": 12,
   "metadata": {},
   "outputs": [],
   "source": [
    "import pandas as pd\n",
    "# 🔝 Top Influencer Berdasarkan PageRank\n",
    "def get_top_influencers(G, top_n=10):\n",
    "    pagerank_scores = nx.pagerank(G)\n",
    "    top_influencers = sorted(pagerank_scores.items(), key=lambda x: x[1], reverse=True)\n",
    "    return pd.DataFrame(top_influencers[:top_n], columns=[\"Product ID\", \"PageRank Score\"])\n",
    "\n",
    "# 🎯 Rekomendasi Produk yang Sering Dibeli Bersama\n",
    "def recommend_products(G, product_id, top_n=5):\n",
    "    neighbors = list(G.successors(product_id))[:top_n]\n",
    "    return pd.DataFrame({\n",
    "        \"Product ID\": neighbors,\n",
    "        \"Reason\": [\"Frequently Bought Together\"] * len(neighbors)\n",
    "    })\n",
    "\n",
    "# ⚠️ Deteksi Anomali berdasarkan PageRank deviation\n",
    "def detect_anomaly(G, threshold=0.05):\n",
    "    pagerank_scores = nx.pagerank(G)\n",
    "    mean_score = sum(pagerank_scores.values()) / len(pagerank_scores)\n",
    "    \n",
    "    anomalies = [\n",
    "        node for node, score in pagerank_scores.items() \n",
    "        if abs(score - mean_score) > threshold\n",
    "    ]\n",
    "    \n",
    "    return anomalies\n"
   ]
  },
  {
   "cell_type": "code",
   "execution_count": 8,
   "metadata": {},
   "outputs": [],
   "source": [
    "# 🔄 Fungsi untuk load graph dari ArangoDB ke NetworkX\n",
    "def load_graph_from_arango():\n",
    "    G = nx.DiGraph()\n",
    "    \n",
    "    # Load semua nodes dari collection 'products'\n",
    "    for p in db.aql.execute(\"FOR p IN products RETURN p\"):\n",
    "        G.add_node(p[\"_key\"])\n",
    "    \n",
    "    # Load semua edges dari collection 'co_purchases'\n",
    "    for e in db.aql.execute(\"FOR e IN co_purchases RETURN e\"):\n",
    "        from_node = e[\"_from\"].split(\"/\")[-1]\n",
    "        to_node = e[\"_to\"].split(\"/\")[-1]\n",
    "        G.add_edge(from_node, to_node)\n",
    "    \n",
    "    return G\n"
   ]
  },
  {
   "cell_type": "code",
   "execution_count": 9,
   "metadata": {},
   "outputs": [
    {
     "name": "stdout",
     "output_type": "stream",
     "text": [
      "✅ Graph loaded with 262111 nodes and 1234877 edges\n"
     ]
    }
   ],
   "source": [
    "# 🚀 Load graph dari ArangoDB\n",
    "G = load_graph_from_arango()\n",
    "\n",
    "print(f\"✅ Graph loaded with {G.number_of_nodes()} nodes and {G.number_of_edges()} edges\")\n"
   ]
  },
  {
   "cell_type": "code",
   "execution_count": 13,
   "metadata": {},
   "outputs": [
    {
     "data": {
      "text/html": [
       "<div>\n",
       "<style scoped>\n",
       "    .dataframe tbody tr th:only-of-type {\n",
       "        vertical-align: middle;\n",
       "    }\n",
       "\n",
       "    .dataframe tbody tr th {\n",
       "        vertical-align: top;\n",
       "    }\n",
       "\n",
       "    .dataframe thead th {\n",
       "        text-align: right;\n",
       "    }\n",
       "</style>\n",
       "<table border=\"1\" class=\"dataframe\">\n",
       "  <thead>\n",
       "    <tr style=\"text-align: right;\">\n",
       "      <th></th>\n",
       "      <th>Product ID</th>\n",
       "      <th>PageRank Score</th>\n",
       "    </tr>\n",
       "  </thead>\n",
       "  <tbody>\n",
       "    <tr>\n",
       "      <th>0</th>\n",
       "      <td>4429</td>\n",
       "      <td>0.000491</td>\n",
       "    </tr>\n",
       "    <tr>\n",
       "      <th>1</th>\n",
       "      <td>33</td>\n",
       "      <td>0.000466</td>\n",
       "    </tr>\n",
       "    <tr>\n",
       "      <th>2</th>\n",
       "      <td>8</td>\n",
       "      <td>0.000375</td>\n",
       "    </tr>\n",
       "    <tr>\n",
       "      <th>3</th>\n",
       "      <td>93</td>\n",
       "      <td>0.000339</td>\n",
       "    </tr>\n",
       "    <tr>\n",
       "      <th>4</th>\n",
       "      <td>481</td>\n",
       "      <td>0.000337</td>\n",
       "    </tr>\n",
       "    <tr>\n",
       "      <th>5</th>\n",
       "      <td>151</td>\n",
       "      <td>0.000310</td>\n",
       "    </tr>\n",
       "    <tr>\n",
       "      <th>6</th>\n",
       "      <td>9106</td>\n",
       "      <td>0.000310</td>\n",
       "    </tr>\n",
       "    <tr>\n",
       "      <th>7</th>\n",
       "      <td>2501</td>\n",
       "      <td>0.000307</td>\n",
       "    </tr>\n",
       "    <tr>\n",
       "      <th>8</th>\n",
       "      <td>14949</td>\n",
       "      <td>0.000300</td>\n",
       "    </tr>\n",
       "    <tr>\n",
       "      <th>9</th>\n",
       "      <td>1241</td>\n",
       "      <td>0.000280</td>\n",
       "    </tr>\n",
       "  </tbody>\n",
       "</table>\n",
       "</div>"
      ],
      "text/plain": [
       "  Product ID  PageRank Score\n",
       "0       4429        0.000491\n",
       "1         33        0.000466\n",
       "2          8        0.000375\n",
       "3         93        0.000339\n",
       "4        481        0.000337\n",
       "5        151        0.000310\n",
       "6       9106        0.000310\n",
       "7       2501        0.000307\n",
       "8      14949        0.000300\n",
       "9       1241        0.000280"
      ]
     },
     "execution_count": 13,
     "metadata": {},
     "output_type": "execute_result"
    }
   ],
   "source": [
    "# 🔥 Cek Top Influencer Product Berdasarkan PageRank\n",
    "top_influencers_df = get_top_influencers(G, top_n=10)\n",
    "top_influencers_df\n"
   ]
  },
  {
   "cell_type": "code",
   "execution_count": 14,
   "metadata": {},
   "outputs": [
    {
     "data": {
      "text/html": [
       "<div>\n",
       "<style scoped>\n",
       "    .dataframe tbody tr th:only-of-type {\n",
       "        vertical-align: middle;\n",
       "    }\n",
       "\n",
       "    .dataframe tbody tr th {\n",
       "        vertical-align: top;\n",
       "    }\n",
       "\n",
       "    .dataframe thead th {\n",
       "        text-align: right;\n",
       "    }\n",
       "</style>\n",
       "<table border=\"1\" class=\"dataframe\">\n",
       "  <thead>\n",
       "    <tr style=\"text-align: right;\">\n",
       "      <th></th>\n",
       "      <th>Product ID</th>\n",
       "      <th>Reason</th>\n",
       "    </tr>\n",
       "  </thead>\n",
       "  <tbody>\n",
       "    <tr>\n",
       "      <th>0</th>\n",
       "      <td>2353</td>\n",
       "      <td>Frequently Bought Together</td>\n",
       "    </tr>\n",
       "    <tr>\n",
       "      <th>1</th>\n",
       "      <td>2501</td>\n",
       "      <td>Frequently Bought Together</td>\n",
       "    </tr>\n",
       "    <tr>\n",
       "      <th>2</th>\n",
       "      <td>5120</td>\n",
       "      <td>Frequently Bought Together</td>\n",
       "    </tr>\n",
       "    <tr>\n",
       "      <th>3</th>\n",
       "      <td>5121</td>\n",
       "      <td>Frequently Bought Together</td>\n",
       "    </tr>\n",
       "    <tr>\n",
       "      <th>4</th>\n",
       "      <td>5190</td>\n",
       "      <td>Frequently Bought Together</td>\n",
       "    </tr>\n",
       "  </tbody>\n",
       "</table>\n",
       "</div>"
      ],
      "text/plain": [
       "  Product ID                      Reason\n",
       "0       2353  Frequently Bought Together\n",
       "1       2501  Frequently Bought Together\n",
       "2       5120  Frequently Bought Together\n",
       "3       5121  Frequently Bought Together\n",
       "4       5190  Frequently Bought Together"
      ]
     },
     "execution_count": 14,
     "metadata": {},
     "output_type": "execute_result"
    }
   ],
   "source": [
    "# 🎯 Rekomendasi Produk untuk Produk Pertama di Influencer List\n",
    "example_product_id = top_influencers_df.iloc[0][\"Product ID\"]\n",
    "\n",
    "recommendations_df = recommend_products(G, example_product_id, top_n=5)\n",
    "recommendations_df\n"
   ]
  },
  {
   "cell_type": "code",
   "execution_count": 15,
   "metadata": {},
   "outputs": [
    {
     "name": "stdout",
     "output_type": "stream",
     "text": [
      "⚠️ Produk Anomali Ditemukan (0 produk):\n"
     ]
    },
    {
     "data": {
      "text/plain": [
       "[]"
      ]
     },
     "execution_count": 15,
     "metadata": {},
     "output_type": "execute_result"
    }
   ],
   "source": [
    "# ⚠️ Cek Produk dengan PageRank Anomali\n",
    "anomalies = detect_anomaly(G, threshold=0.05)\n",
    "\n",
    "print(f\"⚠️ Produk Anomali Ditemukan ({len(anomalies)} produk):\")\n",
    "anomalies[:10]  # Tampilkan 10 pertama\n"
   ]
  },
  {
   "cell_type": "code",
   "execution_count": 16,
   "metadata": {},
   "outputs": [
    {
     "data": {
      "image/png": "[encoded data removed]",
      "text/plain": [
       "<Figure size 800x600 with 1 Axes>"
      ]
     },
     "metadata": {},
     "output_type": "display_data"
    }
   ],
   "source": [
    "import matplotlib.pyplot as plt\n",
    "\n",
    "# Ambil subset graph kecil buat visualize\n",
    "H = G.subgraph(top_influencers_df[\"Product ID\"].tolist())\n",
    "\n",
    "plt.figure(figsize=(8, 6))\n",
    "pos = nx.spring_layout(H)\n",
    "nx.draw(H, pos, with_labels=True, node_size=500, node_color='skyblue')\n",
    "plt.title(\"Top Influencer Product Graph\")\n",
    "plt.show()\n"
   ]
  },
  {
   "cell_type": "code",
   "execution_count": 17,
   "metadata": {},
   "outputs": [
    {
     "name": "stderr",
     "output_type": "stream",
     "text": [
      "c:\\Users\\ACER\\miniconda3\\envs\\kasdd\\Lib\\site-packages\\tqdm\\auto.py:21: TqdmWarning: IProgress not found. Please update jupyter and ipywidgets. See https://ipywidgets.readthedocs.io/en/stable/user_install.html\n",
      "  from .autonotebook import tqdm as notebook_tqdm\n"
     ]
    }
   ],
   "source": [
    "import google.generativeai as genai\n",
    "genai.configure(api_key=os.getenv(\"GEMINI_API_KEY\"))\n",
    "model = genai.GenerativeModel(\"gemini-1.5-pro\")\n",
    "\n",
    "def generate_business_insight(product_id, recommendations):\n",
    "    rec_list = \", \".join(recommendations[\"Product ID\"])\n",
    "    prompt = f\"Produk {product_id} sering dibeli bersama produk berikut: {rec_list}. Apa strategi pemasaran terbaik?\"\n",
    "    response = model.generate_content(prompt)\n",
    "    return response.text\n"
   ]
  },
  {
   "cell_type": "code",
   "execution_count": 18,
   "metadata": {},
   "outputs": [
    {
     "name": "stdout",
     "output_type": "stream",
     "text": [
      "Berikut beberapa strategi pemasaran yang bisa Anda gunakan, berdasarkan fakta bahwa produk 12345 sering dibeli bersama produk 54321, 67890, 98765, 11121, dan 22232:\n",
      "\n",
      "**1. Bundling dan Penawaran Khusus:**\n",
      "\n",
      "* **Bundel Produk:** Tawarkan bundel produk 12345 dengan salah satu atau beberapa produk yang sering dibeli bersamanya.  Misalnya, \"Bundel Hemat: Produk 12345 + 54321\" dengan harga diskon.\n",
      "* **Diskon:** Berikan diskon khusus jika pelanggan membeli produk 12345 bersamaan dengan salah satu produk terkait.  Misalnya, \"Beli produk 12345, dapatkan diskon 10% untuk produk 67890\".\n",
      "* **Promosi Silang:**  Tawarkan promosi beli 1 gratis 1 atau potongan harga untuk produk pelengkap saat pelanggan membeli produk 12345.\n",
      "\n",
      "**2. Rekomendasi Produk (Product Recommendations):**\n",
      "\n",
      "* **Website/E-commerce:** Tampilkan produk-produk terkait (54321, 67890, dst.) di halaman produk 12345 dengan label seperti \"Sering Dibeli Bersama\", \"Pelanggan Juga Membeli\", atau \"Rekomendasi untuk Anda\".\n",
      "* **Email Marketing:**  Kirim email kepada pelanggan yang telah membeli produk 12345, merekomendasikan produk-produk terkait.\n",
      "* **Targeted Ads:** Gunakan data pembelian untuk menargetkan iklan produk terkait kepada pelanggan yang telah menunjukkan minat pada produk 12345.\n",
      "\n",
      "**3. Content Marketing:**\n",
      "\n",
      "* **Blog/Artikel:** Buat konten yang menunjukkan bagaimana produk 12345 dapat digunakan bersama produk-produk terkait. Misalnya, tutorial, review, atau studi kasus.\n",
      "* **Video:** Buat video demonstrasi yang menampilkan penggunaan produk 12345 bersama produk-produk terkait.\n",
      "* **Social Media:**  Bagikan konten yang menarik tentang kombinasi produk dan manfaatnya di platform media sosial.\n",
      "\n",
      "**4. Optimasi Pencarian:**\n",
      "\n",
      "* **Keyword Research:**  Pastikan kata kunci yang relevan dengan produk 12345 dan produk terkait digunakan dalam deskripsi produk dan konten website.\n",
      "* **SEO:** Optimasi halaman produk dan konten untuk meningkatkan peringkat di mesin pencari.\n",
      "\n",
      "**5. Analisa Lanjutan:**\n",
      "\n",
      "* **Memahami Pola Pembelian:**  Lakukan analisis lebih lanjut untuk memahami *mengapa* produk-produk ini sering dibeli bersama. Apakah ada kebutuhan pelanggan yang belum terpenuhi?\n",
      "* **Segmentasi Pelanggan:**  Identifikasi segmen pelanggan yang cenderung membeli produk-produk ini bersamaan dan sesuaikan strategi pemasaran untuk setiap segmen.\n",
      "\n",
      "**Contoh Implementasi:**\n",
      "\n",
      "Misalkan produk 12345 adalah *smartphone* dan 54321 adalah *screen protector*. Strategi yang efektif adalah menawarkan bundel *smartphone* + *screen protector* dengan harga diskon.  Atau, jika 67890 adalah *casing*,  Anda bisa menawarkan diskon untuk *casing*  jika pelanggan membeli *smartphone* 12345.\n",
      "\n",
      "Ingatlah untuk selalu mengukur dan menganalisis hasil dari setiap strategi pemasaran yang diterapkan untuk mengoptimalkan efektivitasnya.\n",
      "\n"
     ]
    }
   ],
   "source": [
    "# Dummy data buat test\n",
    "product_id = \"12345\"\n",
    "recommendations = pd.DataFrame({\n",
    "    \"Product ID\": [\"54321\", \"67890\", \"98765\", \"11121\", \"22232\"]\n",
    "})\n",
    "\n",
    "def generate_business_insight(product_id, recommendations):\n",
    "    rec_list = \", \".join(recommendations[\"Product ID\"])\n",
    "    prompt = f\"Produk {product_id} sering dibeli bersama produk berikut: {rec_list}. Apa strategi pemasaran terbaik?\"\n",
    "    response = model.generate_content(prompt)\n",
    "    return response.text\n",
    "\n",
    "# Run\n",
    "insight = generate_business_insight(product_id, recommendations)\n",
    "print(insight)"
   ]
  }
 ],
 "metadata": {
  "kernelspec": {
   "display_name": "kasdd",
   "language": "python",
   "name": "python3"
  },
  "language_info": {
   "codemirror_mode": {
    "name": "ipython",
    "version": 3
   },
   "file_extension": ".py",
   "mimetype": "text/x-python",
   "name": "python",
   "nbconvert_exporter": "python",
   "pygments_lexer": "ipython3",
   "version": "3.13.1"
  }
 },
 "nbformat": 4,
 "nbformat_minor": 2
}
